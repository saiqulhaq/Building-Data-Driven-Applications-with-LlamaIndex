{
 "cells": [
  {
   "cell_type": "markdown",
   "id": "8257c784-33ce-4277-86ce-f3f3027dcf0b",
   "metadata": {},
   "source": [
    "# Intro to llama-index\n",
    "\n",
    "following is an example of simple code usage for llama-index"
   ]
  },
  {
   "cell_type": "code",
   "execution_count": 1,
   "id": "71665929-c38c-4efd-831a-0133028975ad",
   "metadata": {},
   "outputs": [
    {
     "name": "stdout",
     "output_type": "stream",
     "text": [
      "The first document discusses ancient Rome, highlighting its grand architecture, skilled engineering, and vast empire that included iconic structures like the Colosseum. It also mentions the Roman Republic, famous Roman legions, and the lasting influence of Roman civilization on modern societies. \n",
      "\n",
      "The second document focuses on dogs as loyal companions, describing various breeds with unique traits. It emphasizes the comfort, protection, and love that dogs provide to their owners, making them beloved pets worldwide. Whether playing in the park or relaxing by the fireplace, dogs bring joy to people's lives in different ways.\n"
     ]
    }
   ],
   "source": [
    "from llama_index.core import VectorStoreIndex, SimpleDirectoryReader\n",
    "\n",
    "documents = SimpleDirectoryReader('files').load_data()\n",
    "index = VectorStoreIndex.from_documents(documents)\n",
    "query_engine = index.as_query_engine()\n",
    "response = query_engine.query(\"summarize each document in a few sentences\")\n",
    "\n",
    "print(response)"
   ]
  },
  {
   "cell_type": "code",
   "execution_count": 2,
   "id": "90278400-918f-403b-82a3-24036ea6cabe",
   "metadata": {},
   "outputs": [
    {
     "name": "stdout",
     "output_type": "stream",
     "text": [
      "The heart of the vast Roman Empire.\n"
     ]
    }
   ],
   "source": [
    "response = query_engine.query(\"What is Rome city?\")\n",
    "\n",
    "print(response)"
   ]
  },
  {
   "cell_type": "code",
   "execution_count": 3,
   "id": "63ca9f7b-d9a4-40b8-a3f9-0b88364ccfc5",
   "metadata": {},
   "outputs": [
    {
     "name": "stdout",
     "output_type": "stream",
     "text": [
      "Romans were skilled engineers and builders known for their grand architecture, including iconic structures like the Colosseum and the Pantheon. They created an extensive network of roads, aqueducts, and bridges that connected their far-reaching territories. The Roman Republic gave rise to the famous Roman legions, which conquered vast lands and brought them under Roman rule. The Roman civilization's influence on art, law, and governance can still be seen in modern societies today.\n"
     ]
    }
   ],
   "source": [
    "response = query_engine.query(\"Who are Romans?\")\n",
    "\n",
    "print(response)"
   ]
  },
  {
   "cell_type": "code",
   "execution_count": 4,
   "id": "897ae12c-330b-4982-a997-c1110c35360d",
   "metadata": {},
   "outputs": [
    {
     "name": "stdout",
     "output_type": "stream",
     "text": [
      "The Roman civilization's influence on art, law, and governance can still be seen in modern societies today.\n"
     ]
    }
   ],
   "source": [
    "response = query_engine.query(\"Does Roman had influence to accounting?\")\n",
    "\n",
    "print(response)"
   ]
  },
  {
   "cell_type": "code",
   "execution_count": 5,
   "id": "76bff91d-06ae-432d-b59e-83781e34bc2c",
   "metadata": {},
   "outputs": [
    {
     "name": "stdout",
     "output_type": "stream",
     "text": [
      "There is no information provided in the context about anyone being Indonesian.\n"
     ]
    }
   ],
   "source": [
    "response = query_engine.query(\"Who is Indonesian?\")\n",
    "\n",
    "print(response)"
   ]
  },
  {
   "cell_type": "markdown",
   "id": "96b70840-59f2-410b-a1a2-a3fc5bfc7280",
   "metadata": {},
   "source": [
    "### The code above can respond to our query because Llama-Index uses OpenAI GPT3.5 Turbo as default to as LLM\n",
    "\n",
    "We will understand about the next chapter on the book"
   ]
  },
  {
   "cell_type": "markdown",
   "id": "2b728b8b-1d8d-44e1-ae8d-4635102c2390",
   "metadata": {},
   "source": [
    "The **VectorStoreIndex** in LlamaIndex is a specialized index designed to manage and query high-dimensional vector embeddings of text data. It is a core component of LlamaIndex, facilitating efficient data retrieval and indexing, particularly for applications that require semantic search capabilities.\n",
    "\n",
    "### Key Features and Functionality\n",
    "\n",
    "1. **Integration with Vector Stores**:\n",
    "   - The VectorStoreIndex integrates with various vector stores, allowing it to use these stores as the backend for indexing and querying data. This integration supports over 20 different vector store options, providing flexibility in terms of scalability, performance, and cost[1][4][6].\n",
    "\n",
    "2. **Index Construction**:\n",
    "   - To construct a VectorStoreIndex, documents are first converted into embeddings using a model. These embeddings are then stored in the chosen vector store. The process involves parsing documents into `Node` objects, which are then indexed[1][4][6].\n",
    "\n",
    "3. **Semantic Search**:\n",
    "   - The VectorStoreIndex utilizes vector embeddings to enable semantic search. This means it can retrieve text that matches the meaning of query terms rather than just keyword matching. This is achieved by converting both the documents and the query into vector embeddings and then finding the most similar embeddings[1][4][6].\n",
    "\n",
    "4. **Top-K Retrieval**:\n",
    "   - During querying, the VectorStoreIndex supports fetching the top-k most similar nodes based on the similarity of their embeddings. These nodes are then passed into the Response Synthesis module for generating relevant responses[1][4][6].\n",
    "\n",
    "5. **Persistence and Reloading**:\n",
    "   - The VectorStoreIndex supports persisting the index to disk and reloading it when needed. This saves time and computational resources, especially when dealing with large datasets[3][4].\n",
    "\n",
    "### Practical Applications\n",
    "\n",
    "The VectorStoreIndex is particularly useful in building retrieval-augmented generation (RAG) applications, where it significantly improves the efficiency and accuracy of data retrieval. It is ideal for workflows that require comparing texts for semantic similarity via vector search, such as question-answering systems, recommendation engines, and more[1][4][5].\n",
    "```\n",
    "\n",
    "### Conclusion\n",
    "\n",
    "The VectorStoreIndex in LlamaIndex is a powerful tool for managing and querying high-dimensional vector embeddings, enabling efficient and effective semantic search capabilities. Its integration with various vector stores and support for persistence and reloading make it a versatile choice for developers building advanced language model applications[1][4][6].\n",
    "\n",
    "Citations:\n",
    "* [1] https://www.restack.io/docs/llamaindex-knowledge-llamaindex-vectorstoreindex-overview\n",
    "* [2] https://github.com/run-llama/llama_index/issues/11079\n",
    "* [3] https://huggingface.co/llamaindex\n",
    "* [4] https://nanonets.com/blog/llamaindex/\n",
    "* [5] https://zilliz.com/blog/getting-started-with-llamaindex\n",
    "* [6] https://docs.llamaindex.ai/en/stable/understanding/indexing/indexing/\n",
    "* [7] https://stackoverflow.com/questions/77984729/importerror-cannot-import-name-vectorstoreindex-from-llama-index-unknown-l\n",
    "* [8] https://llama-index.readthedocs.io/zh/stable/reference/indices/vector_store.html"
   ]
  }
 ],
 "metadata": {
  "kernelspec": {
   "display_name": "Python 3 (ipykernel)",
   "language": "python",
   "name": "python3"
  },
  "language_info": {
   "codemirror_mode": {
    "name": "ipython",
    "version": 3
   },
   "file_extension": ".py",
   "mimetype": "text/x-python",
   "name": "python",
   "nbconvert_exporter": "python",
   "pygments_lexer": "ipython3",
   "version": "3.11.9"
  }
 },
 "nbformat": 4,
 "nbformat_minor": 5
}
