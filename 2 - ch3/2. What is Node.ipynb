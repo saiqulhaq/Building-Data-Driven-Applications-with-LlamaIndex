{
 "cells": [
  {
   "cell_type": "code",
   "execution_count": 1,
   "id": "14fe1fdf-eb21-4212-9fa8-de06df7d2e98",
   "metadata": {},
   "outputs": [
    {
     "name": "stdout",
     "output_type": "stream",
     "text": [
      "Node ID: c573a0f0-0330-4d7b-979f-ad32c2320f90\n",
      "Text: This is a sample\n",
      "Node ID: 0c0d2196-98a2-4d29-a032-6a5977978dbe\n",
      "Text: document text\n"
     ]
    }
   ],
   "source": [
    "from llama_index.core import Document\n",
    "from llama_index.core.schema import TextNode\n",
    "\n",
    "doc = Document(text=\"This is a sample document text\")\n",
    "n1 = TextNode(text=doc.text[0:16], doc_id=doc.id_) \n",
    "n2 = TextNode(text=doc.text[17:30], doc_id=doc.id_)\n",
    "print(n1)\n",
    "print(n2)\n"
   ]
  },
  {
   "cell_type": "markdown",
   "id": "0ea50ae1-8b71-41fe-9ed7-6d18d975930e",
   "metadata": {},
   "source": [
    "In LlamaIndex, a **TextNode** is a fundamental data structure that represents a chunk of text from a source document. It is a type of node object that encapsulates textual content along with associated metadata and relationships to other nodes. TextNodes are used to build more complex and interconnected data structures within the LlamaIndex framework.\n",
    "\n",
    "### Key Features of TextNode\n",
    "\n",
    "1. **Text Content**:\n",
    "   - The primary attribute of a TextNode is its `text` field, which contains the actual chunk of text from the source document[3][4].\n",
    "\n",
    "2. **Unique Identifier**:\n",
    "   - Each TextNode has a unique identifier (`id_`) that distinguishes it from other nodes. This ID can be manually specified or automatically generated[3][4].\n",
    "\n",
    "3. **Embeddings**:\n",
    "   - TextNodes can store vector embeddings of their text content. These embeddings are used for efficient retrieval and semantic search operations[3][4].\n",
    "\n",
    "4. **Metadata**:\n",
    "   - TextNodes can include a dictionary of metadata fields (`extra_info`). This metadata can provide additional context about the text, such as its source, creation date, or any other relevant information[3][4].\n",
    "\n",
    "5. **Relationships**:\n",
    "   - TextNodes can define relationships to other nodes using the `relationships` attribute. This allows for the creation of complex, interconnected data structures. Relationships can be of various types, such as parent-child or sequential relationships[3][4].\n",
    "\n",
    "6. **Templates**:\n",
    "   - TextNodes support templates for formatting their text and metadata. The `text_template` and `metadata_template` attributes allow for customizable string representations of the node's content and metadata[3][4].\n",
    "\n",
    "### Example Usage\n",
    "\n",
    "Here is an example of how to create and use a TextNode in LlamaIndex:\n",
    "\n",
    "```python\n",
    "from llama_index.core.schema import TextNode, NodeRelationship, RelatedNodeInfo\n",
    "\n",
    "# Create TextNode objects\n",
    "node1 = TextNode(text=\"This is the first chunk of text.\", id_=\"node1\")\n",
    "node2 = TextNode(text=\"This is the second chunk of text.\", id_=\"node2\")\n",
    "\n",
    "# Define relationships between nodes\n",
    "node1.relationships[NodeRelationship.NEXT] = RelatedNodeInfo(node_id=node2.id_)\n",
    "node2.relationships[NodeRelationship.PREVIOUS] = RelatedNodeInfo(node_id=node1.id_)\n",
    "\n",
    "# Print node details\n",
    "print(f\"Node 1 ID: {node1.id_}, Text: {node1.text}\")\n",
    "print(f\"Node 2 ID: {node2.id_}, Text: {node2.text}\")\n",
    "```\n",
    "\n",
    "### Advanced Usage\n",
    "\n",
    "TextNodes can be customized further by setting additional attributes and using them in more complex indexing and querying scenarios. For example, you can manually set the embeddings or use a NodeParser to automatically generate nodes from documents:\n",
    "\n",
    "```python\n",
    "from llama_index.core.node_parser import SimpleNodeParser\n",
    "\n",
    "# Assuming documents have already been loaded\n",
    "documents = [...]  # List of document objects\n",
    "\n",
    "# Initialize the parser\n",
    "parser = SimpleNodeParser.from_defaults(chunk_size=1024, chunk_overlap=20)\n",
    "\n",
    "# Parse documents into nodes\n",
    "nodes = parser.get_nodes_from_documents(documents)\n",
    "\n",
    "# Print parsed nodes\n",
    "for node in nodes:\n",
    "    print(f\"Node ID: {node.id_}, Text: {node.text}\")\n",
    "```\n",
    "\n",
    "### Conclusion\n",
    "\n",
    "In summary, a TextNode in LlamaIndex is a versatile and essential component that encapsulates chunks of text along with metadata and relationships. It serves as a building block for creating structured and interconnected data representations, facilitating efficient retrieval and semantic search operations within the LlamaIndex framework[3][4][5].\n",
    "\n",
    "Citations:\n",
    "[1] https://medium.aiplanet.com/advanced-rag-using-llama-index-e06b00dc0ed8?gi=a9d1f4470c17\n",
    "[2] https://github.com/run-llama/llama_index/issues/7511\n",
    "[3] https://docs.llamaindex.ai/en/v0.10.19/api/llama_index.core.schema.TextNode.html\n",
    "[4] https://docs.llamaindex.ai/en/stable/module_guides/loading/documents_and_nodes/usage_nodes/\n",
    "[5] https://nanonets.com/blog/llamaindex/\n",
    "[6] https://forum.weaviate.io/t/how-do-i-overwrite-a-document-if-the-files-are-exactly-the-same-when-indexing/2329\n",
    "[7] https://deci.ai/blog/rag-with-llamaindex-and-decilm-a-step-by-step-tutorial/\n",
    "[8] https://github.com/run-llama/llama_index/blob/main/llama-index-core/llama_index/core/schema.py"
   ]
  }
 ],
 "metadata": {
  "kernelspec": {
   "display_name": "Python 3 (ipykernel)",
   "language": "python",
   "name": "python3"
  },
  "language_info": {
   "codemirror_mode": {
    "name": "ipython",
    "version": 3
   },
   "file_extension": ".py",
   "mimetype": "text/x-python",
   "name": "python",
   "nbconvert_exporter": "python",
   "pygments_lexer": "ipython3",
   "version": "3.11.9"
  }
 },
 "nbformat": 4,
 "nbformat_minor": 5
}
