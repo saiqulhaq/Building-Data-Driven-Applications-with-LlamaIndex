{
 "cells": [
  {
   "cell_type": "code",
   "execution_count": 10,
   "id": "ed05f778-1ddd-4522-b1b9-ba7950ef86db",
   "metadata": {},
   "outputs": [
    {
     "name": "stdout",
     "output_type": "stream",
     "text": [
      "Metadata length (6) is close to chunk size (12). Resulting chunks are less than 50 tokens. Consider increasing the chunk size or decreasing the size of your metadata to avoid this.\n",
      "This is sentence 1.\n",
      "{'author': 'John Smith'}\n",
      "This is sentence 2.\n",
      "{'author': 'John Smith'}\n",
      "Sentence 3 here.\n",
      "{'author': 'John Smith'}\n"
     ]
    }
   ],
   "source": [
    "from llama_index.core import Document\n",
    "from llama_index.core.node_parser import TokenTextSplitter\n",
    "\n",
    "doc = Document( \n",
    "    text=(\n",
    "    \"This is sentence 1. This is sentence 2. \"\n",
    "    \"Sentence 3 here.\"\n",
    "    ),\n",
    "    metadata={\"author\": \"John Smith\"}\n",
    ")  \n",
    "splitter = TokenTextSplitter( \n",
    "    chunk_size=12, \n",
    "    chunk_overlap=0, \n",
    "    separator=\" \"\n",
    ") \n",
    "\n",
    "nodes = splitter.get_nodes_from_documents([doc]) \n",
    "for node in nodes: \n",
    "    print(node.text) \n",
    "    print(node.metadata)"
   ]
  },
  {
   "cell_type": "markdown",
   "id": "bcbd6468-bc04-4e56-944a-451f62fb3d1e",
   "metadata": {},
   "source": [
    "## We can ignore the warning message since the code is to show us about text splitting"
   ]
  }
 ],
 "metadata": {
  "kernelspec": {
   "display_name": "Python 3 (ipykernel)",
   "language": "python",
   "name": "python3"
  },
  "language_info": {
   "codemirror_mode": {
    "name": "ipython",
    "version": 3
   },
   "file_extension": ".py",
   "mimetype": "text/x-python",
   "name": "python",
   "nbconvert_exporter": "python",
   "pygments_lexer": "ipython3",
   "version": "3.11.9"
  }
 },
 "nbformat": 4,
 "nbformat_minor": 5
}
