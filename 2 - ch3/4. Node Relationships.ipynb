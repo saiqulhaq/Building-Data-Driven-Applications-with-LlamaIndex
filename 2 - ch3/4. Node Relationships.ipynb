{
 "cells": [
  {
   "cell_type": "code",
   "execution_count": 2,
   "id": "a8b84c59-1c1b-467c-a76e-c32754e3140c",
   "metadata": {},
   "outputs": [
    {
     "name": "stdout",
     "output_type": "stream",
     "text": [
      "doc:\n",
      "Doc ID: 6cb8b4b3-c7fb-4323-8d76-6594f68c82a7\n",
      "Text: First sentence. Second Sentence\n",
      "n1:\n",
      "Node ID: 488e8163-6d9c-494c-a0a7-2ba6ebc9fd3d\n",
      "Text: First sentence\n",
      "{<NodeRelationship.NEXT: '3'>: 'b500b0df-19b9-400e-a385-c0a89383cac0'}\n",
      "n2:\n",
      "Node ID: b500b0df-19b9-400e-a385-c0a89383cac0\n",
      "Text: Second sentence\n",
      "{<NodeRelationship.PREVIOUS: '2'>: '488e8163-6d9c-494c-a0a7-2ba6ebc9fd3d'}\n"
     ]
    }
   ],
   "source": [
    "from llama_index.core import Document\n",
    "from llama_index.core.schema import (\n",
    "    TextNode, \n",
    "    NodeRelationship, \n",
    "    RelatedNodeInfo\n",
    ")\n",
    "doc = Document(text=\"First sentence. Second Sentence\")\n",
    "print(\"doc:\")\n",
    "print(doc)\n",
    "n1 = TextNode(text=\"First sentence\", node_id=doc.doc_id)\n",
    "n2 = TextNode(text=\"Second sentence\", node_id=doc.doc_id)\n",
    "\n",
    "n1.relationships[NodeRelationship.NEXT] = n2.node_id \n",
    "n2.relationships[NodeRelationship.PREVIOUS] = n1.node_id\n",
    "print(\"n1:\")\n",
    "print(n1)\n",
    "print(n1.relationships)\n",
    "print(\"n2:\")\n",
    "print(n2)\n",
    "print(n2.relationships)\n",
    "\n"
   ]
  },
  {
   "cell_type": "markdown",
   "id": "55755e81-d928-413c-bee1-e0f89f2ad467",
   "metadata": {},
   "source": [
    "The relationship tracks the order of Nodes within the original Document. This code tells LlamaIndex that the two Nodes belong to the initial Document and they also come in a particular order."
   ]
  },
  {
   "cell_type": "markdown",
   "id": "23ee28ac-b353-4a78-984c-e4954009a270",
   "metadata": {},
   "source": [
    "Relationships in LlamaIndex are crucial for several reasons, primarily revolving around data organization, retrieval efficiency, and contextual understanding. Here’s a detailed explanation based on the provided sources and the sample code:\n",
    "\n",
    "### Importance of Relationships in LlamaIndex\n",
    "\n",
    "1. **Data Organization and Structure**:\n",
    "   - Relationships help in organizing data into a structured format, making it easier to manage and navigate. By defining relationships between nodes, LlamaIndex can maintain a coherent structure that reflects the logical flow of the original document. This is particularly useful when dealing with large and complex datasets.\n",
    "   - For example, in the sample code, the relationship between `n1` and `n2` (NEXT and PREVIOUS) helps maintain the sequence of sentences, ensuring that the text's original order is preserved.\n",
    "\n",
    "2. **Efficient Data Retrieval**:\n",
    "   - Relationships enable efficient data retrieval by allowing the system to follow predefined links between nodes. This can significantly speed up the process of finding relevant information, as the system can traverse through related nodes rather than searching through the entire dataset.\n",
    "   - In the context of LlamaIndex, nodes can be linked in various ways (e.g., NEXT, PREVIOUS, PARENT, CHILD), facilitating quick access to related chunks of data during queries[5][6][13].\n",
    "\n",
    "3. **Contextual Understanding**:\n",
    "   - Relationships provide context to the data, which is essential for tasks like information retrieval, summarization, and question answering. By understanding how different parts of the text are related, LlamaIndex can generate more accurate and contextually relevant responses.\n",
    "   - For instance, knowing that `n1` is followed by `n2` helps in understanding the flow of information and generating coherent summaries or answers based on the document's content[5][6][13].\n",
    "\n",
    "4. **Enhanced Query Capabilities**:\n",
    "   - With relationships, LlamaIndex can support more complex queries that require understanding the connections between different parts of the text. This is particularly useful for applications like retrieval-augmented generation (RAG), where the system needs to fetch and synthesize information from multiple related nodes.\n",
    "   - The ability to define and traverse relationships allows for more sophisticated query mechanisms, improving the overall effectiveness of the system[5][6][13].\n",
    "\n",
    "\n",
    "Citations:\n",
    "[1] https://www.ncbi.nlm.nih.gov/pmc/articles/PMC1560517/\n",
    "[2] https://aclanthology.org/2022.paclic-1.14.pdf\n",
    "[3] https://howaibuildthis.substack.com/p/llamaindex-how-to-use-index-correctly\n",
    "[4] https://www.geeksforgeeks.org/relationship-extraction-in-nlp/\n",
    "[5] https://docs.llamaindex.ai/en/stable/module_guides/loading/documents_and_nodes/usage_nodes/\n",
    "[6] https://nanonets.com/blog/llamaindex/\n",
    "[7] https://www.tutorchase.com/answers/ib/computer-science/why-are-relationships-important-in-databases\n",
    "[8] https://medium.aiplanet.com/advanced-rag-using-llama-index-e06b00dc0ed8?gi=a9d1f4470c17\n",
    "[9] https://sicss.io/2018/materials/day3-text-analysis/text-networks/rmarkdown/SICSS_Text_Networks.html\n",
    "[10] https://hub.knime.com/knime/extensions/org.knime.features.ext.textprocessing/latest/org.knime.ext.textprocessing.nodes.mining.relations.relationextractor.StanfordNlpRelationExtractorNodeFactory\n",
    "[11] https://www.leewayhertz.com/llamaindex/\n",
    "[12] https://myscale.com/blog/understanding-database-relations-key-concepts-significance/\n",
    "[13] https://docs.llamaindex.ai/en/stable/module_guides/loading/documents_and_nodes/\n",
    "[14] https://betterprogramming.pub/getting-started-with-llamaindex-part-2-a66618df3cd\n",
    "[15] https://deci.ai/blog/rag-with-llamaindex-and-decilm-a-step-by-step-tutorial/\n",
    "[16] https://www.luzmo.com/blog/database-relationships\n",
    "[17] https://stackoverflow.com/questions/65955232/how-can-i-find-relationship-between-two-entities-or-words-using-nlp\n",
    "[18] https://www.researchgate.net/publication/352247861_Exploring_the_relationship_between_research_in_Information_Retrieval_and_Information_Seeking_Behavior_1979-2008\n",
    "[19] https://www.researchgate.net/publication/2446421_A_Logical_Relational_Approach_for_Information_Retrieval_Indexing\n",
    "[20] https://www.sciencedirect.com/topics/computer-science/information-retrieval"
   ]
  }
 ],
 "metadata": {
  "kernelspec": {
   "display_name": "Python 3 (ipykernel)",
   "language": "python",
   "name": "python3"
  },
  "language_info": {
   "codemirror_mode": {
    "name": "ipython",
    "version": 3
   },
   "file_extension": ".py",
   "mimetype": "text/x-python",
   "name": "python",
   "nbconvert_exporter": "python",
   "pygments_lexer": "ipython3",
   "version": "3.11.9"
  }
 },
 "nbformat": 4,
 "nbformat_minor": 5
}
