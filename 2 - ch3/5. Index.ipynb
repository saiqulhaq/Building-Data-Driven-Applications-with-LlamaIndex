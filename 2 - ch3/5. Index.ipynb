{
 "cells": [
  {
   "cell_type": "code",
   "execution_count": 2,
   "id": "c629edb8-0ee4-4b50-be0a-72ab610b63d3",
   "metadata": {},
   "outputs": [
    {
     "name": "stdout",
     "output_type": "stream",
     "text": [
      "Rosario\n"
     ]
    }
   ],
   "source": [
    "from llama_index.core import SummaryIndex, Document\n",
    "from llama_index.core.schema import TextNode\n",
    "\n",
    "nodes = [\n",
    "  TextNode(\n",
    "    text=\"Lionel Messi is a football player from Argentina.\"\n",
    "    ),\n",
    "  TextNode(\n",
    "    text=\"He has won the Ballon d'Or trophy 7 times.\"\n",
    "    ),\n",
    "  TextNode(text=\"Lionel Messi's hometown is Rosario.\"),\n",
    "  TextNode(text=\"He was born on June 24, 1987.\")\n",
    "]\n",
    "index = SummaryIndex(nodes)\n",
    "\n",
    "query_engine = index.as_query_engine()\n",
    "response = query_engine.query(\n",
    "    \"Messi hometown is?\"\n",
    ")\n",
    "print(response)"
   ]
  },
  {
   "cell_type": "code",
   "execution_count": 11,
   "id": "1d8358d8-aed1-4621-be9c-3af0d67017b7",
   "metadata": {},
   "outputs": [
    {
     "name": "stdout",
     "output_type": "stream",
     "text": [
      "Lionel Messi was born in June 1987.\n"
     ]
    }
   ],
   "source": [
    "response = query_engine.query(\n",
    "    \"Who was born in Junf 1987\"\n",
    ")\n",
    "print(response)"
   ]
  },
  {
   "cell_type": "code",
   "execution_count": 13,
   "id": "7200ef10-6a10-4b12-98e6-f2daec9f61c4",
   "metadata": {},
   "outputs": [
    {
     "name": "stdout",
     "output_type": "stream",
     "text": [
      "Lionel Messi was born in June 1987.\n"
     ]
    }
   ],
   "source": [
    "response = query_engine.query(\n",
    "    \"Who was born in June 1987?\"\n",
    ")\n",
    "print(response)"
   ]
  },
  {
   "cell_type": "code",
   "execution_count": 3,
   "id": "89803aea-8a72-40a3-8a45-3e1627afa9eb",
   "metadata": {},
   "outputs": [
    {
     "name": "stdout",
     "output_type": "stream",
     "text": [
      "{\n",
      "    \"person\": \"Lionel Messi\"\n",
      "}\n"
     ]
    }
   ],
   "source": [
    "response = query_engine.query(\n",
    "    \"Who was born in June 1987? give me answer in JSON format\"\n",
    ")\n",
    "print(response)"
   ]
  },
  {
   "cell_type": "markdown",
   "id": "ce050be2-b7ed-4986-aea0-22365e0620d9",
   "metadata": {},
   "source": [
    "# Brief explanation of each index type in LLama Index:\n",
    "\n",
    "### 1. Colbert\n",
    "**Function**: The Colbert index is designed for efficient and scalable dense retrieval. It leverages the ColBERT (Contextualized Late Interaction over BERT) model, which allows for fast and accurate retrieval of relevant documents by performing late interaction between query and document embeddings. This index is particularly useful for applications requiring high-precision search and retrieval from large datasets.\n",
    "\n",
    "### 2. Dashscope\n",
    "**Function**: Dashscope is likely a specialized index or tool within LlamaIndex that focuses on data visualization and analysis. It may provide capabilities for creating dashboards or visual representations of data, helping users to explore and understand their data more effectively. This can be particularly useful for monitoring and analyzing trends, patterns, and insights within the indexed data.\n",
    "\n",
    "### 3. Document Summary\n",
    "**Function**: The Document Summary index creates summaries of documents by extracting key information and condensing it into a shorter form. This index is useful for quickly understanding the main points of a document without reading the entire text. It is particularly beneficial for applications like news aggregation, research, and content curation where quick comprehension of large volumes of text is needed.\n",
    "\n",
    "### 4. Google\n",
    "**Function**: The Google index likely refers to integration with Google services, such as Google Drive, Google Docs, or Google Cloud. This index allows users to ingest and query data stored in Google services, making it easier to incorporate and retrieve information from these platforms within LlamaIndex applications.\n",
    "\n",
    "### 5. Keyword\n",
    "**Function**: The Keyword index extracts and indexes keywords from documents, creating a mapping between keywords and the corresponding text. This allows for efficient keyword-based search and retrieval, making it ideal for applications where users need to find documents or information based on specific terms or phrases.\n",
    "\n",
    "### 6. Knowledge Graph\n",
    "**Function**: The Knowledge Graph index constructs a knowledge graph from unstructured text by identifying entities and their relationships. This structured representation allows for complex queries and reasoning over the data, making it useful for applications like information retrieval, question answering, and semantic search.\n",
    "\n",
    "### 7. Llama Cloud\n",
    "**Function**: Llama Cloud likely refers to a cloud-based service or feature within LlamaIndex that provides scalable and distributed indexing and querying capabilities. This service can handle large datasets and high query volumes, making it suitable for enterprise-level applications and cloud-based deployments.\n",
    "\n",
    "### 8. Postgresml\n",
    "**Function**: The Postgresml index integrates with PostgreSQL databases, enabling the use of machine learning models directly within the database. This allows for efficient data processing and querying, leveraging the power of PostgreSQL for storage and retrieval while incorporating advanced machine learning capabilities.\n",
    "\n",
    "### 9. Property Graph\n",
    "**Function**: The Property Graph index visualizes and analyzes relationships between data entities using a graph structure. Each node represents an entity, and edges represent relationships between entities. This index is useful for applications that require understanding and exploring complex relationships, such as social networks, recommendation systems, and knowledge management.\n",
    "\n",
    "### 10. Summary\n",
    "**Function**: Similar to the Document Summary index, the Summary index focuses on creating concise summaries of documents or text. It helps users quickly grasp the main ideas and key points, making it useful for applications that need to process and present large amounts of information in a digestible format.\n",
    "\n",
    "### 11. Tree\n",
    "**Function**: The Tree index organizes data into a hierarchical tree structure, allowing for efficient traversal and querying from root to leaf nodes. This index is ideal for applications that require navigating through different levels of data granularity, such as organizational charts, file systems, and nested document structures.\n",
    "\n",
    "### 12. Vectara\n",
    "**Function**: Vectara is likely a specialized index or integration within LlamaIndex that focuses on vector-based data processing and analysis. It may provide capabilities for handling and querying vector embeddings, making it useful for applications that require semantic search and similarity matching.\n",
    "\n",
    "### 13. Vector\n",
    "**Function**: The Vector index stores nodes as vector embeddings, which are numerical representations of the text's semantics. It supports semantic search by finding the most similar nodes to a given query. This index is ideal for applications requiring semantic similarity searches, such as document Q&A, data-augmented chatbots, and knowledge retrieval.\n",
    "\n",
    "### 14. Zilliz\n",
    "**Function**: Zilliz is likely an integration with the Zilliz platform, which provides high-performance vector database services. This index allows for efficient storage and retrieval of vector embeddings, making it suitable for applications that require fast and scalable vector search capabilities, such as recommendation systems and image retrieval.\n",
    "\n",
    "These indexes provide a wide range of functionalities to cater to different data organization, retrieval, and analysis needs, making LlamaIndex a versatile tool for building and scaling LLM applications.\n",
    "\n",
    "Citations:\n",
    "[1] https://pplx-res.cloudinary.com/image/upload/v1718542709/user_uploads/mbobwxvwv/image.jpg\n",
    "[2] https://github.com/run-llama/llama_index\n",
    "[3] https://langfuse.com/docs/integrations/llama-index/get-started\n",
    "[4] https://docs.llamaindex.ai/en/latest/api_reference/indices/\n",
    "[5] https://nanonets.com/blog/llamaindex/\n",
    "[6] https://llama-index.readthedocs.io/zh/stable/guides/primer/usage_pattern.html\n",
    "[7] https://www.anyscale.com/blog/build-and-scale-a-powerful-query-engine-with-llamaindex-ray\n",
    "[8] https://docs.llamaindex.ai/en/v0.10.17/api_reference/indices.html\n",
    "[9] https://www.trulens.org/trulens_eval/tracking/instrumentation/llama_index/"
   ]
  }
 ],
 "metadata": {
  "kernelspec": {
   "display_name": "Python 3 (ipykernel)",
   "language": "python",
   "name": "python3"
  },
  "language_info": {
   "codemirror_mode": {
    "name": "ipython",
    "version": 3
   },
   "file_extension": ".py",
   "mimetype": "text/x-python",
   "name": "python",
   "nbconvert_exporter": "python",
   "pygments_lexer": "ipython3",
   "version": "3.11.9"
  }
 },
 "nbformat": 4,
 "nbformat_minor": 5
}
