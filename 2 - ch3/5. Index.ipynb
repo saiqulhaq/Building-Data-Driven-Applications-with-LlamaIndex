{
 "cells": [
  {
   "cell_type": "code",
   "execution_count": 8,
   "id": "c629edb8-0ee4-4b50-be0a-72ab610b63d3",
   "metadata": {},
   "outputs": [
    {
     "name": "stdout",
     "output_type": "stream",
     "text": [
      "Rosario\n"
     ]
    }
   ],
   "source": [
    "from llama_index.core import SummaryIndex, Document\n",
    "from llama_index.core.schema import TextNode\n",
    "\n",
    "nodes = [\n",
    "  TextNode(\n",
    "    text=\"Lionel Messi is a football player from Argentina.\"\n",
    "    ),\n",
    "  TextNode(\n",
    "    text=\"He has won the Ballon d'Or trophy 7 times.\"\n",
    "    ),\n",
    "  TextNode(text=\"Lionel Messi's hometown is Rosario.\"),\n",
    "  TextNode(text=\"He was born on June 24, 1987.\")\n",
    "]\n",
    "index = SummaryIndex(nodes)\n",
    "\n",
    "query_engine = index.as_query_engine()\n",
    "response = query_engine.query(\n",
    "    \"Messi hometown is?\"\n",
    ")\n",
    "print(response)"
   ]
  },
  {
   "cell_type": "code",
   "execution_count": 11,
   "id": "1d8358d8-aed1-4621-be9c-3af0d67017b7",
   "metadata": {},
   "outputs": [
    {
     "name": "stdout",
     "output_type": "stream",
     "text": [
      "Lionel Messi was born in June 1987.\n"
     ]
    }
   ],
   "source": [
    "response = query_engine.query(\n",
    "    \"Who was born in Junf 1987\"\n",
    ")\n",
    "print(response)"
   ]
  },
  {
   "cell_type": "code",
   "execution_count": 13,
   "id": "7200ef10-6a10-4b12-98e6-f2daec9f61c4",
   "metadata": {},
   "outputs": [
    {
     "name": "stdout",
     "output_type": "stream",
     "text": [
      "Lionel Messi was born in June 1987.\n"
     ]
    }
   ],
   "source": [
    "response = query_engine.query(\n",
    "    \"Who was born in June 1987?\"\n",
    ")\n",
    "print(response)"
   ]
  }
 ],
 "metadata": {
  "kernelspec": {
   "display_name": "Python 3 (ipykernel)",
   "language": "python",
   "name": "python3"
  },
  "language_info": {
   "codemirror_mode": {
    "name": "ipython",
    "version": 3
   },
   "file_extension": ".py",
   "mimetype": "text/x-python",
   "name": "python",
   "nbconvert_exporter": "python",
   "pygments_lexer": "ipython3",
   "version": "3.11.9"
  }
 },
 "nbformat": 4,
 "nbformat_minor": 5
}
