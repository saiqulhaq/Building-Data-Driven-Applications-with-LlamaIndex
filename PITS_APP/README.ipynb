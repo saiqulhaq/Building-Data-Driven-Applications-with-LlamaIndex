{
 "cells": [
  {
   "cell_type": "markdown",
   "id": "3bf57968-ab30-47aa-a462-eea2f17c4d04",
   "metadata": {},
   "source": [
    "# Code Structure\n",
    "\n",
    "* app.py: The main entry point for the Streamlit app. This handles the initialization of the application and manages the navigation between different screens based on the application logic\n",
    "* document_uploader.py: This interfaces with LlamaIndex to ingest and index uploaded Documents\n",
    "* training_material_builder.py: This constructs the learning materials (slides and narration) based on the user’s current knowledge. It utilizes uploaded and indexed materials to generate the learning content\n",
    "* training_interface.py: This is where the actual teaching will occur. It displays the slides and the tutor narration together with the conversational side panel for user interactions\n",
    "* quiz_builder.py: This generates quizzes based on the ingested materials and the user’s current knowledge\n",
    "* quiz_interface.py: This administers quizzes and evaluates the user’s knowledge level depending on the results – what everyone hated in high school\n",
    "* conversation_engine.py: This manages the conversational side panel, responding to user queries and providing explanations. It also keeps track of the context of conversations with the tutor to avoid repetition and ensure relevant assistance. It also retrieves summaries of previous discussions and provides the tutor picks up where it left off\n",
    "* storage_manager.py: This handles all file operations, such as saving and loading session states and user uploads. It manages local file storage and can be later adapted for cloud storage solutions\n",
    "* session_functions.py: This handles storing and retrieving session information locally – and eventually in the cloud\n",
    "* logging_functions.py: This handles the logging of all user interactions with the app. Writes descriptive log statements with timestamps to track the user’s actions throughout the app. Stores and retrieves application logs locally – and eventually in the cloud\n",
    "* global_settings.py: This contains application settings, configurations, and, eventually, Streamlit’s secrets for deployment. It centralizes parameters for easy management and updates\n",
    "* user_onboarding.py: This module takes care of the user onboarding steps\n",
    "* index_builder.py: This module builds the indexes used throughout the application."
   ]
  }
 ],
 "metadata": {
  "kernelspec": {
   "display_name": "Python 3 (ipykernel)",
   "language": "python",
   "name": "python3"
  },
  "language_info": {
   "codemirror_mode": {
    "name": "ipython",
    "version": 3
   },
   "file_extension": ".py",
   "mimetype": "text/x-python",
   "name": "python",
   "nbconvert_exporter": "python",
   "pygments_lexer": "ipython3",
   "version": "3.11.9"
  }
 },
 "nbformat": 4,
 "nbformat_minor": 5
}
