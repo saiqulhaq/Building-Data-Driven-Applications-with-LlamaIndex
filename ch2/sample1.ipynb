{
 "cells": [
  {
   "cell_type": "code",
   "execution_count": 1,
   "id": "71665929-c38c-4efd-831a-0133028975ad",
   "metadata": {},
   "outputs": [
    {
     "name": "stdout",
     "output_type": "stream",
     "text": [
      "Document 1 discusses ancient Rome, highlighting its grand architecture, skilled engineering, and the influence of the Roman civilization on modern societies. It mentions iconic structures like the Colosseum, the Roman Republic's governance system, and the vast territories conquered by the Roman legions. Document 2 focuses on dogs as loyal companions, describing their various breeds, traits, and the comfort they provide to their owners. It emphasizes the joy and love that dogs bring to people's lives through activities like playing in the park or relaxing by the fireplace.\n"
     ]
    }
   ],
   "source": [
    "from llama_index.core import VectorStoreIndex, SimpleDirectoryReader\n",
    "\n",
    "documents = SimpleDirectoryReader('files').load_data()\n",
    "index = VectorStoreIndex.from_documents(documents)\n",
    "query_engine = index.as_query_engine()\n",
    "response = query_engine.query(\"summarize each document in a few sentences\")\n",
    "\n",
    "print(response)"
   ]
  },
  {
   "cell_type": "code",
   "execution_count": 2,
   "id": "90278400-918f-403b-82a3-24036ea6cabe",
   "metadata": {},
   "outputs": [
    {
     "name": "stdout",
     "output_type": "stream",
     "text": [
      "The heart of the vast Roman Empire.\n"
     ]
    }
   ],
   "source": [
    "response = query_engine.query(\"What is Rome city?\")\n",
    "\n",
    "print(response)"
   ]
  },
  {
   "cell_type": "code",
   "execution_count": 3,
   "id": "63ca9f7b-d9a4-40b8-a3f9-0b88364ccfc5",
   "metadata": {},
   "outputs": [
    {
     "name": "stdout",
     "output_type": "stream",
     "text": [
      "Romans were skilled engineers and builders known for their grand architecture, including iconic structures like the Colosseum and the Pantheon. They created an extensive network of roads, aqueducts, and bridges that connected their far-reaching territories. The Roman Republic gave rise to the famous Roman legions, which conquered vast lands and brought them under Roman rule. The Roman civilization's influence on art, law, and governance can still be seen in modern societies today.\n"
     ]
    }
   ],
   "source": [
    "response = query_engine.query(\"Who are Romans?\")\n",
    "\n",
    "print(response)"
   ]
  },
  {
   "cell_type": "code",
   "execution_count": 4,
   "id": "897ae12c-330b-4982-a997-c1110c35360d",
   "metadata": {},
   "outputs": [
    {
     "name": "stdout",
     "output_type": "stream",
     "text": [
      "The Roman civilization's influence on art, law, and governance can still be seen in modern societies today.\n"
     ]
    }
   ],
   "source": [
    "response = query_engine.query(\"Does Roman had influence to accounting?\")\n",
    "\n",
    "print(response)"
   ]
  },
  {
   "cell_type": "code",
   "execution_count": 5,
   "id": "76bff91d-06ae-432d-b59e-83781e34bc2c",
   "metadata": {},
   "outputs": [
    {
     "name": "stdout",
     "output_type": "stream",
     "text": [
      "There is no information provided in the context about anyone being Indonesian.\n"
     ]
    }
   ],
   "source": [
    "response = query_engine.query(\"Who is Indonesian?\")\n",
    "\n",
    "print(response)"
   ]
  },
  {
   "cell_type": "markdown",
   "id": "96b70840-59f2-410b-a1a2-a3fc5bfc7280",
   "metadata": {},
   "source": [
    "This code able to respond to our query because it uses Vector DB. It tried to find the document based on the relevancy or similarity to our query."
   ]
  }
 ],
 "metadata": {
  "kernelspec": {
   "display_name": "Python 3 (ipykernel)",
   "language": "python",
   "name": "python3"
  },
  "language_info": {
   "codemirror_mode": {
    "name": "ipython",
    "version": 3
   },
   "file_extension": ".py",
   "mimetype": "text/x-python",
   "name": "python",
   "nbconvert_exporter": "python",
   "pygments_lexer": "ipython3",
   "version": "3.11.9"
  }
 },
 "nbformat": 4,
 "nbformat_minor": 5
}
