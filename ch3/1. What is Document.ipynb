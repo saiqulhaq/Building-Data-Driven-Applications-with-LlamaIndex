{
 "cells": [
  {
   "cell_type": "code",
   "execution_count": 2,
   "id": "3c3461f7-a6ad-4ec2-a8e5-1d93db574000",
   "metadata": {},
   "outputs": [
    {
     "name": "stdout",
     "output_type": "stream",
     "text": [
      "Doc ID: 1\n",
      "Text: The quick brown fox jumps over the lazy dog.\n"
     ]
    }
   ],
   "source": [
    "from llama_index.core import Document\n",
    "\n",
    "text = \"The quick brown fox jumps over the lazy dog.\"\n",
    "doc = Document(\n",
    "    text=text, \n",
    "    metadata={'author': 'John Doe','category': 'others'}, \n",
    "    id_='1'\n",
    ")\n",
    "print(doc)"
   ]
  },
  {
   "cell_type": "markdown",
   "id": "a113540d-b7ed-468e-852f-a4dbea6f3bac",
   "metadata": {},
   "source": [
    "In LlamaIndex, a **Document** is a core abstraction that serves as a generic container for data from various sources. This can include text from PDFs, API outputs, database queries, and more. The Document object is designed to encapsulate this data along with associated metadata and relationships, making it a fundamental building block for creating structured indices and facilitating efficient data querying.\n",
    "\n",
    "### Key Features of a Document in LlamaIndex\n",
    "\n",
    "1. **Generic Container**:\n",
    "   - A Document can hold data from diverse sources, such as PDFs, APIs, or databases. This flexibility allows for a wide range of data ingestion scenarios[1][4].\n",
    "\n",
    "2. **Attributes**:\n",
    "   - **Text**: The primary content of the Document.\n",
    "   - **Metadata**: A dictionary of annotations that can be appended to the text, such as file names, timestamps, or other relevant information.\n",
    "   - **Relationships**: A dictionary containing relationships to other Documents or Nodes, which helps in building a more structured and relational index[4][6].\n",
    "\n",
    "3. **Multimodal Capabilities**:\n",
    "   - While primarily designed for text, Documents in LlamaIndex have beta support for storing images and are actively being developed to improve multimodal capabilities[4].\n",
    "\n",
    "4. **Integration with Nodes**:\n",
    "   - Documents can be parsed into smaller, more granular data entities called Nodes. Nodes represent \"chunks\" of the source Document and carry metadata and relationship information, which is crucial for precise retrieval operations[4][6].\n",
    "\n",
    "### Example Usage\n",
    "\n",
    "Here is a simple example of how to create and use a Document in LlamaIndex:\n",
    "\n",
    "```python\n",
    "from llama_index.core import Document, VectorStoreIndex\n",
    "\n",
    "# Create a list of text data\n",
    "text_list = [\"This is the first document.\", \"This is the second document.\"]\n",
    "\n",
    "# Create Document objects from the text data\n",
    "documents = [Document(text=t) for t in text_list]\n",
    "\n",
    "# Build an index from the Document objects\n",
    "index = VectorStoreIndex.from_documents(documents)\n",
    "\n",
    "# Query the index\n",
    "query_engine = index.as_query_engine()\n",
    "response = query_engine.query(\"first document\")\n",
    "print(response)\n",
    "```\n",
    "\n",
    "### Advanced Usage\n",
    "\n",
    "For more advanced scenarios, such as handling large datasets or integrating with various data sources, LlamaIndex provides data connectors (Readers) that can automatically convert data into Document objects. For example, using the `SimpleDirectoryReader` to load documents from a directory:\n",
    "\n",
    "```python\n",
    "from llama_index.core import SimpleDirectoryReader\n",
    "\n",
    "# Initialize the reader for the directory\n",
    "reader = SimpleDirectoryReader(input_dir=\"data/\")\n",
    "\n",
    "# Load the documents\n",
    "docs = reader.load_data()\n",
    "\n",
    "# Extract documents and their names into separate lists\n",
    "documents = [doc.text for doc in docs]\n",
    "document_names = [doc.id_ for doc in docs]\n",
    "\n",
    "print(\"Documents:\", documents)\n",
    "print(\"Document Names:\", document_names)\n",
    "```\n",
    "\n",
    "### Conclusion\n",
    "\n",
    "In summary, a Document in LlamaIndex is a versatile and essential component that encapsulates data from various sources, enriched with metadata and relationships. This abstraction facilitates the creation of structured indices and efficient querying, making it a powerful tool for building LLM-based applications[1][4][6].\n",
    "\n",
    "Citations:\n",
    "* [1] https://medium.aiplanet.com/advanced-rag-using-llama-index-e06b00dc0ed8?gi=a9d1f4470c17\n",
    "* [2] https://github.com/run-llama/llama_index/discussions/11970\n",
    "* [3] https://nanonets.com/blog/llamaindex/\n",
    "* [4] https://docs.llamaindex.ai/en/stable/module_guides/loading/documents_and_nodes/\n",
    "* [5] https://www.youtube.com/watch?v=j6dJcODLd_c\n",
    "* [6] https://ts.llamaindex.ai/api/classes/Document\n",
    "* [7] https://github.com/run-llama/llama_index/blob/main/llama-index-core/llama_index/core/schema.py\n",
    "* [8] https://llamahub.ai/l/readers/llama-index-readers-docstring-walker?from=readers"
   ]
  }
 ],
 "metadata": {
  "kernelspec": {
   "display_name": "Python 3 (ipykernel)",
   "language": "python",
   "name": "python3"
  },
  "language_info": {
   "codemirror_mode": {
    "name": "ipython",
    "version": 3
   },
   "file_extension": ".py",
   "mimetype": "text/x-python",
   "name": "python",
   "nbconvert_exporter": "python",
   "pygments_lexer": "ipython3",
   "version": "3.11.9"
  }
 },
 "nbformat": 4,
 "nbformat_minor": 5
}
